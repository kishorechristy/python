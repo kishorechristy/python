{
  "nbformat": 4,
  "nbformat_minor": 0,
  "metadata": {
    "colab": {
      "name": "lab.ipynb",
      "provenance": [],
      "collapsed_sections": [],
      "include_colab_link": true
    },
    "kernelspec": {
      "name": "python3",
      "display_name": "Python 3"
    },
    "language_info": {
      "name": "python"
    }
  },
  "cells": [
    {
      "cell_type": "markdown",
      "metadata": {
        "id": "view-in-github",
        "colab_type": "text"
      },
      "source": [
        "<a href=\"https://colab.research.google.com/github/kishorechristy/python/blob/main/Python_Arithmetic_Program.ipynb\" target=\"_parent\"><img src=\"https://colab.research.google.com/assets/colab-badge.svg\" alt=\"Open In Colab\"/></a>"
      ]
    },
    {
      "cell_type": "code",
      "execution_count": null,
      "metadata": {
        "colab": {
          "base_uri": "https://localhost:8080/"
        },
        "id": "SwRDS4y8qYvT",
        "outputId": "d3c1c662-4f76-4402-9465-c0d3991d7717"
      },
      "outputs": [
        {
          "output_type": "stream",
          "name": "stdout",
          "text": [
            "enter number 1 : 45\n",
            "enter number 2 : 48\n",
            "45 + 48 = 93\n"
          ]
        }
      ],
      "source": [
        "#assignment operator\n",
        "value1=eval(input('enter number 1 : '))\n",
        "value2=eval(input('enter number 2 : '))\n",
        "sum=value1+value2\n",
        "print(value1,'+',value2,'=',sum)\n",
        "\n"
      ]
    },
    {
      "cell_type": "code",
      "source": [
        "#arithmetic operator\n",
        "x=30\n",
        "y=80\n",
        "print('x+y=', x+y)\n",
        "print('x-y=', x-y)\n",
        "print('x*y=', x*y)\n",
        "print('x/y=', x/y)\n",
        "print('x//y=', x//y)\n",
        "print('x**y=', x**y)"
      ],
      "metadata": {
        "colab": {
          "base_uri": "https://localhost:8080/"
        },
        "id": "ozQOkk2psSoK",
        "outputId": "ab658a0b-fa9e-4d28-df9f-f05b64b9a0a8"
      },
      "execution_count": null,
      "outputs": [
        {
          "output_type": "stream",
          "name": "stdout",
          "text": [
            "x+y= 110\n",
            "x-y= -50\n",
            "x*y= 2400\n",
            "x/y= 0.375\n",
            "x//y= 0\n",
            "x**y= 14780882941434592331608321020638329760100000000000000000000000000000000000000000000000000000000000000000000000000000000\n"
          ]
        }
      ]
    },
    {
      "cell_type": "code",
      "source": [
        "#arithmetic operations\n",
        "print(\"Choice 1: Add, 2:Sub, 3:Div, 4:Mul, 5:Quit\")\n",
        "n1=input(\"Enter the choice of operation :\")\n",
        "n =int(n1)\n",
        "if(n==1):\n",
        "  print(\"You have chosen addition Option:\")\n",
        "  a1=input(\"Enter the value for A: \")\n",
        "  b1=input(\"Enter the value for B: \")\n",
        "  a=int(a1)\n",
        "  b=int(b1)\n",
        "  c=a+b\n",
        "  print(\"The result\",a,\"+\",b,\"=\",c)\n",
        "elif(n==2):\n",
        "  print('you have chosen subtraction option:')\n",
        "  a1=input('enter the value for A: ')\n",
        "  b1=input('enter the value for B: ')\n",
        "  a=int(a1)\n",
        "  b=int(b1)\n",
        "  c=a-b\n",
        "  print('the result',a,'-',b,'=',c)\n",
        "elif(n==3):\n",
        "  print('you have chosen multiplication option:')\n",
        "  a1=input('enter the value for A: ')\n",
        "  a2=input('enter the value for B: ')\n",
        "  a=int(a1)\n",
        "  b=int(a2)\n",
        "  c=a*b\n",
        "  print('the result',a,'*',b,'=',c)\n",
        "elif(n==4):\n",
        "  print('you have chosen division option:')\n",
        "  a1=input('enter the value for A: ')\n",
        "  a2=input('enter the value for B: ')\n",
        "  a=int(a1)\n",
        "  b=int(b1)\n",
        "  c=a/b\n",
        "  print('the result',a,'/',b,'=',c)\n",
        "elif(n==5):\n",
        "  print('you have given wrong option:')\n",
        "  exit()"
      ],
      "metadata": {
        "colab": {
          "base_uri": "https://localhost:8080/"
        },
        "id": "mLC_lPPIxhE5",
        "outputId": "6db2bfe0-6940-4b1c-b173-9d28b7a7849c"
      },
      "execution_count": null,
      "outputs": [
        {
          "output_type": "stream",
          "name": "stdout",
          "text": [
            "Choice 1: Add, 2:Sub, 3:Div, 4:Mul, 5:Quit\n",
            "Enter the choice of operation :1\n",
            "You have chosen addition Option:\n",
            "Enter the value for A: 7\n",
            "Enter the value for B: 5\n",
            "The result 7 + 5 = 12\n"
          ]
        }
      ]
    },
    {
      "cell_type": "code",
      "source": [
        "#fibonacci series\n",
        "print('fibonacci series')\n",
        "n1 =input('enter the number:')\n",
        "n=int(n1)\n",
        "if(n>0):\n",
        "  f=0\n",
        "  s=1\n",
        "  i=0\n",
        "  next = 0 \n",
        "  while (1):\n",
        "    print('\\n\\n*************************************')\n",
        "    for i in range (n+1):\n",
        "       if(i<=1):\n",
        "         print(i)\n",
        "       else:\n",
        "        next=f+s\n",
        "        f=s\n",
        "        s=next\n",
        "        print(next)\n",
        "    i=i+1\n",
        "    break\n",
        "  else:\n",
        "    print('you have entered the wrong input',n)\n",
        "      \n"
      ],
      "metadata": {
        "colab": {
          "base_uri": "https://localhost:8080/"
        },
        "id": "41h6MDJW5meB",
        "outputId": "b5982c43-9c4f-4a14-f67c-fa9c510937d2"
      },
      "execution_count": null,
      "outputs": [
        {
          "output_type": "stream",
          "name": "stdout",
          "text": [
            "fibonacci series\n",
            "enter the number:9\n",
            "\n",
            "\n",
            "*************************************\n",
            "0\n",
            "1\n",
            "1\n",
            "2\n",
            "3\n",
            "5\n",
            "8\n",
            "13\n",
            "21\n",
            "34\n"
          ]
        }
      ]
    }
  ]
}