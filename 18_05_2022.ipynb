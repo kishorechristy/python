{
  "nbformat": 4,
  "nbformat_minor": 0,
  "metadata": {
    "colab": {
      "name": "Untitled7.ipynb",
      "provenance": [],
      "include_colab_link": true
    },
    "kernelspec": {
      "name": "python3",
      "display_name": "Python 3"
    },
    "language_info": {
      "name": "python"
    }
  },
  "cells": [
    {
      "cell_type": "markdown",
      "metadata": {
        "id": "view-in-github",
        "colab_type": "text"
      },
      "source": [
        "<a href=\"https://colab.research.google.com/github/kishorechristy/python/blob/main/18_05_2022.ipynb\" target=\"_parent\"><img src=\"https://colab.research.google.com/assets/colab-badge.svg\" alt=\"Open In Colab\"/></a>"
      ]
    },
    {
      "cell_type": "code",
      "execution_count": null,
      "metadata": {
        "colab": {
          "base_uri": "https://localhost:8080/"
        },
        "id": "ae8BwxqbVh7P",
        "outputId": "99fa6648-cef9-4e38-ad5c-e88a3349b457"
      },
      "outputs": [
        {
          "output_type": "stream",
          "name": "stdout",
          "text": [
            "this is python\n"
          ]
        }
      ],
      "source": [
        "#defining and calling a function\n",
        "def printme(str):\n",
        "  \"defining and calling a function\"\n",
        "  print (str)\n",
        "  return\n",
        "printme(\"this is python\")"
      ]
    },
    {
      "cell_type": "code",
      "source": [
        "#passing by reference\n",
        "def printme(str):\n",
        "  \"this is python\"\n",
        "  print(str)"
      ],
      "metadata": {
        "id": "B-OrXA0-Xi2A"
      },
      "execution_count": null,
      "outputs": []
    },
    {
      "cell_type": "code",
      "source": [
        "#pass by reference\n",
        "def changeme(mylist):\n",
        "  \"this changes the given list\"\n",
        "  mylist.append([2,3,4,5,6]);\n",
        "  print(\"values inside the function: \", mylist)\n",
        "  return\n",
        "mylist=[20,30,40]\n",
        "changeme(mylist);\n",
        "print('values outside the function: ',mylist)\n"
      ],
      "metadata": {
        "colab": {
          "base_uri": "https://localhost:8080/"
        },
        "id": "5Ym4u07QYwNN",
        "outputId": "56c33e2b-bf05-4ef0-d296-236606ec834a"
      },
      "execution_count": null,
      "outputs": [
        {
          "output_type": "stream",
          "name": "stdout",
          "text": [
            "values inside the function:  [20, 30, 40, [2, 3, 4, 5, 6]]\n",
            "values outside the function:  [20, 30, 40, [2, 3, 4, 5, 6]]\n"
          ]
        }
      ]
    },
    {
      "cell_type": "code",
      "source": [
        "#calling printme function\n",
        "def printme(str):\n",
        "  print (str)\n",
        "  return;\n",
        "printme('here it prints the passed string to this function')"
      ],
      "metadata": {
        "colab": {
          "base_uri": "https://localhost:8080/"
        },
        "id": "bt_cAwPOZ4Xn",
        "outputId": "b0e3f728-731f-4f3f-98fe-cb12b6c759c7"
      },
      "execution_count": null,
      "outputs": [
        {
          "output_type": "stream",
          "name": "stdout",
          "text": [
            "here it prints the passed string to this function\n"
          ]
        }
      ]
    },
    {
      "cell_type": "code",
      "source": [
        "#keyword function\n",
        "def printme(str):\n",
        "  'this prints a passed string into this function'\n",
        "  print(str)\n",
        "  return;\n",
        "printme( str = 'my string')"
      ],
      "metadata": {
        "colab": {
          "base_uri": "https://localhost:8080/"
        },
        "id": "LVHzjdw7apfb",
        "outputId": "f3e1d11a-3a51-42e3-9a8c-7a7e65dbd94e"
      },
      "execution_count": null,
      "outputs": [
        {
          "output_type": "stream",
          "name": "stdout",
          "text": [
            "my string\n"
          ]
        }
      ]
    },
    {
      "cell_type": "code",
      "source": [
        "def printme(name,age):\n",
        "  print('name: ', name)\n",
        "  print ('age: ', age)\n",
        "  return;\n",
        "printme (age=18, name='ANURAG')"
      ],
      "metadata": {
        "colab": {
          "base_uri": "https://localhost:8080/"
        },
        "id": "KX4lcXDibECc",
        "outputId": "28ec8508-44c6-4203-c4ec-282892d73f05"
      },
      "execution_count": null,
      "outputs": [
        {
          "output_type": "stream",
          "name": "stdout",
          "text": [
            "name:  ANURAG\n",
            "age:  18\n"
          ]
        }
      ]
    },
    {
      "cell_type": "code",
      "source": [
        "def printinfo(arg1, *vartuple):\n",
        "  'this prints variable passed arguments'\n",
        "  print('the output: ')\n",
        "  print (arg1)\n",
        "  for var in vartuple:\n",
        "    print (var)\n",
        "  return;\n",
        "printinfo(20)\n",
        "printinfo(30,40)\n"
      ],
      "metadata": {
        "colab": {
          "base_uri": "https://localhost:8080/"
        },
        "id": "yDfKNVI0cKMH",
        "outputId": "99a1c0d1-adae-45c9-b0e8-860f9a6fd056"
      },
      "execution_count": null,
      "outputs": [
        {
          "output_type": "stream",
          "name": "stdout",
          "text": [
            "the output: \n",
            "20\n",
            "the output: \n",
            "30\n",
            "40\n"
          ]
        }
      ]
    },
    {
      "cell_type": "code",
      "source": [
        "#global and local variable\n",
        "total=0;\n",
        "def sum(arg1, arg2):\n",
        "  total=arg1+arg2;\n",
        "  print('inside the function local total:',total)\n",
        "  return total;\n",
        "sum(10,20);\n",
        "print('outside the function global total: ',total)"
      ],
      "metadata": {
        "colab": {
          "base_uri": "https://localhost:8080/"
        },
        "id": "sp4O9JXcd4e3",
        "outputId": "464cb821-8f2f-46af-dd10-d1ca4d12ef4b"
      },
      "execution_count": null,
      "outputs": [
        {
          "output_type": "stream",
          "name": "stdout",
          "text": [
            "inside the function local total: 30\n",
            "outside the function global total:  0\n"
          ]
        }
      ]
    },
    {
      "cell_type": "code",
      "source": [
        "#prime number program using maths functions\n",
        "from math import sqrt\n",
        "max_value=eval(input('display prime up to what value? '))\n",
        "value=2\n",
        "while value <= max_value:\n",
        "  is_prime=True\n",
        "  trial_factor =2\n",
        "  root=sqrt(value)\n",
        "  while trial_factor <= root:\n",
        "    if value % trial_factor == 0:\n",
        "      is_prime=false;\n",
        "      break\n",
        "    trial_factor += 1\n",
        "  if is_prime:\n",
        "    print(value, end= ' ')\n",
        "  value += 1\n",
        "print()"
      ],
      "metadata": {
        "colab": {
          "base_uri": "https://localhost:8080/"
        },
        "id": "0qzPJKpbfY2N",
        "outputId": "c7159bcd-9424-485a-d0ea-f8117c24cb03"
      },
      "execution_count": null,
      "outputs": [
        {
          "output_type": "stream",
          "name": "stdout",
          "text": [
            "display prime up to what value? 3\n",
            "2 3 \n"
          ]
        }
      ]
    },
    {
      "cell_type": "code",
      "source": [
        "\n",
        "#time function\n",
        "from time import clock\n",
        "print('enter your name: ', end='')\n",
        "start_time=clock()\n",
        "name=input()\n",
        "elapsed=clock()-start_time\n",
        "print(name, 'it took you', elapsed,'seconds to respond')"
      ],
      "metadata": {
        "colab": {
          "base_uri": "https://localhost:8080/"
        },
        "id": "pY8tIP4EhzhH",
        "outputId": "e6543f9d-7aa4-4867-aad5-1d7b917f7d2c"
      },
      "execution_count": null,
      "outputs": [
        {
          "output_type": "stream",
          "name": "stderr",
          "text": [
            "/usr/local/lib/python3.7/dist-packages/ipykernel_launcher.py:5: DeprecationWarning: time.clock has been deprecated in Python 3.3 and will be removed from Python 3.8: use time.perf_counter or time.process_time instead\n",
            "  \"\"\"\n"
          ]
        },
        {
          "output_type": "stream",
          "name": "stdout",
          "text": [
            "enter your name: ANURAG\n",
            "ANURAG it took you 0.02219199999999999 seconds to respond\n"
          ]
        },
        {
          "output_type": "stream",
          "name": "stderr",
          "text": [
            "/usr/local/lib/python3.7/dist-packages/ipykernel_launcher.py:7: DeprecationWarning: time.clock has been deprecated in Python 3.3 and will be removed from Python 3.8: use time.perf_counter or time.process_time instead\n",
            "  import sys\n"
          ]
        }
      ]
    },
    {
      "cell_type": "code",
      "source": [
        "#random function\n",
        "from random import randrange, seed\n",
        "seed(23)\n",
        "for i in range(0,100):\n",
        "  print(randrange(1,1000),end=' ')\n",
        "print()"
      ],
      "metadata": {
        "colab": {
          "base_uri": "https://localhost:8080/"
        },
        "id": "mjcJI8xJlb2_",
        "outputId": "8b68ee4b-29e6-4f7b-c102-f45c37380526"
      },
      "execution_count": null,
      "outputs": [
        {
          "output_type": "stream",
          "name": "stdout",
          "text": [
            "948 799 972 297 914 850 86 18 607 315 434 389 543 367 134 744 197 274 456 15 227 636 466 924 26 109 88 728 511 432 21 525 643 752 442 368 790 59 211 802 37 604 378 674 177 636 222 995 753 372 580 779 881 378 992 586 289 677 999 322 587 88 834 486 182 736 495 605 811 459 692 658 168 187 819 183 547 332 690 836 533 201 597 118 85 101 437 40 582 283 963 587 288 841 605 339 112 379 922 296 \n"
          ]
        }
      ]
    },
    {
      "cell_type": "code",
      "source": [
        "#rolling a dice using random module functions\n",
        "from random import randrange\n",
        "for i in range(0,3):\n",
        "  value=randrange(1,6)\n",
        "  print('+----------+')\n",
        "  if value==1:\n",
        "    print('|         |')\n",
        "    print('|    *    |')\n",
        "    print('|         |')\n",
        "  elif value==2:\n",
        "    print('| *       |')\n",
        "    print('|         |')\n",
        "    print('|       * |')\n",
        "  elif value==3:\n",
        "    print('|       * |')\n",
        "    print('|    *    |')\n",
        "    print('| *       |')\n",
        "  elif value==4:\n",
        "    print('| *     * |')\n",
        "    print('|         |')\n",
        "    print('| *     * |')\n",
        "  elif value==5:\n",
        "    print('| *     * |')\n",
        "    print('|    *    |')\n",
        "    print('| *     * |')\n",
        "  elif value==6:\n",
        "    print('| *  *  * |')\n",
        "    print('|         |')\n",
        "    print('| *  *  * |')"
      ],
      "metadata": {
        "colab": {
          "base_uri": "https://localhost:8080/"
        },
        "id": "DAtXWje_mhJG",
        "outputId": "6213324b-41fa-487a-b8b9-cdf8df15c311"
      },
      "execution_count": null,
      "outputs": [
        {
          "output_type": "stream",
          "name": "stdout",
          "text": [
            "+----------+\n",
            "| *     * |\n",
            "|    *    |\n",
            "| *     * |\n",
            "+----------+\n",
            "|       * |\n",
            "|    *    |\n",
            "| *       |\n",
            "+----------+\n",
            "| *     * |\n",
            "|         |\n",
            "| *     * |\n"
          ]
        }
      ]
    },
    {
      "cell_type": "code",
      "source": [
        "#passing parameters\n",
        "def increment(x):\n",
        "  print('starting the execution of the increment, x=', x)\n",
        "  x += 1\n",
        "  print('ending the execution of the increment, x=', x)\n",
        "def main():\n",
        "  x=5\n",
        "  print('before increment, x=', x)\n",
        "  increment(x)\n",
        "  print('after increment, x=', x)\n",
        "main()"
      ],
      "metadata": {
        "colab": {
          "base_uri": "https://localhost:8080/"
        },
        "id": "ylYwrL60sCmn",
        "outputId": "3234e29d-8b3a-4ed3-ed35-0ef55aea23ac"
      },
      "execution_count": null,
      "outputs": [
        {
          "output_type": "stream",
          "name": "stdout",
          "text": [
            "before increment, x= 5\n",
            "starting the execution of the increment, x= 5\n",
            "ending the execution of the increment, x= 6\n",
            "after increment, x= 5\n"
          ]
        }
      ]
    },
    {
      "cell_type": "code",
      "source": [
        "#recursion\n",
        "def factorial(n):\n",
        "  if n==0:\n",
        "    return 1\n",
        "  else:\n",
        "    return n*factorial(n-1)\n",
        "def main():\n",
        "  print('o!= ', factorial(0))\n",
        "  print('1!= ', factorial(1))\n",
        "main()"
      ],
      "metadata": {
        "colab": {
          "base_uri": "https://localhost:8080/"
        },
        "id": "LGzUYFaPtlmO",
        "outputId": "e5e5798b-158f-4108-8187-152407a9dec8"
      },
      "execution_count": null,
      "outputs": [
        {
          "output_type": "stream",
          "name": "stdout",
          "text": [
            "o!=  1\n",
            "1!=  1\n"
          ]
        }
      ]
    },
    {
      "cell_type": "code",
      "source": [
        "#making functions reusable\n",
        "from math import sqrt\n",
        "def is_prime(n):\n",
        "  trial_factor=2\n",
        "  root=sqrt(n)\n",
        "  while trial_factor<=root:\n",
        "    if n % trial_factor == 0:\n",
        "      return False;\n",
        "    return True;\n",
        "\n",
        "\n"
      ],
      "metadata": {
        "id": "8tua7Se8Tco-"
      },
      "execution_count": null,
      "outputs": []
    },
    {
      "cell_type": "code",
      "source": [
        "#function as data\n",
        "def add(x,y):\n",
        "  return x+y\n",
        "def multiply(x,y):\n",
        "  return x*y\n",
        "def evaluate(f,x,y):\n",
        "  return f(x,y)\n",
        "def main():\n",
        "  print(add(2,3))\n",
        "  print(multiply(2,3))\n",
        "  print(evaluate(add,2,3))\n",
        "  print(evaluate(multiply,2,3))\n",
        "main()"
      ],
      "metadata": {
        "colab": {
          "base_uri": "https://localhost:8080/"
        },
        "id": "ZIrZ6ZsGWAoj",
        "outputId": "e8f8aa92-e3cf-430f-c59e-d890fa67ef7d"
      },
      "execution_count": null,
      "outputs": [
        {
          "output_type": "stream",
          "name": "stdout",
          "text": [
            "5\n",
            "6\n",
            "5\n",
            "6\n"
          ]
        }
      ]
    },
    {
      "cell_type": "code",
      "source": [
        ""
      ],
      "metadata": {
        "id": "cDnTJviJqd48"
      },
      "execution_count": null,
      "outputs": []
    },
    {
      "cell_type": "code",
      "source": [
        ""
      ],
      "metadata": {
        "id": "9iHQzNQwajH_"
      },
      "execution_count": null,
      "outputs": []
    }
  ]
}