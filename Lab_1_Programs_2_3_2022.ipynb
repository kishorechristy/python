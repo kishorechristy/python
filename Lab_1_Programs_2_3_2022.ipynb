{
  "nbformat": 4,
  "nbformat_minor": 0,
  "metadata": {
    "colab": {
      "name": "Lab 1_Programs_2-3-2022.ipynb",
      "provenance": [],
      "include_colab_link": true
    },
    "kernelspec": {
      "name": "python3",
      "display_name": "Python 3"
    },
    "language_info": {
      "name": "python"
    }
  },
  "cells": [
    {
      "cell_type": "markdown",
      "metadata": {
        "id": "view-in-github",
        "colab_type": "text"
      },
      "source": [
        "<a href=\"https://colab.research.google.com/github/kishorechristy/python/blob/main/Lab_1_Programs_2_3_2022.ipynb\" target=\"_parent\"><img src=\"https://colab.research.google.com/assets/colab-badge.svg\" alt=\"Open In Colab\"/></a>"
      ]
    },
    {
      "cell_type": "code",
      "execution_count": null,
      "metadata": {
        "colab": {
          "base_uri": "https://localhost:8080/"
        },
        "id": "HleShsGI2r3N",
        "outputId": "97e42871-3ed5-4b11-a8d9-67cb002b6dee"
      },
      "outputs": [
        {
          "output_type": "stream",
          "name": "stdout",
          "text": [
            "The Sum Of 1.5 and 6.3 is 7.8\n"
          ]
        }
      ],
      "source": [
        "num1 = 1.5\n",
        "num2 = 6.3\n",
        "sum = num1+num2\n",
        "print('The Sum Of {0} and {1} is {2}'.format(num1, num2, sum))"
      ]
    },
    {
      "cell_type": "code",
      "source": [
        "num1 = input('Enter First Number : ')\n",
        "num2 = input('Enter Second Number : ')\n",
        "sum = float(num1)+float(num2)\n",
        "print('The Sum Of {0} And {1} is {2}'.format(num1,num2,sum))"
      ],
      "metadata": {
        "colab": {
          "base_uri": "https://localhost:8080/"
        },
        "id": "7Amy9Bqe2oOV",
        "outputId": "5d23ae5d-bba3-4979-f341-4fa43571e4c5"
      },
      "execution_count": null,
      "outputs": [
        {
          "output_type": "stream",
          "name": "stdout",
          "text": [
            "Enter First Number : 69\n",
            "Enter Second Number : 420\n",
            "The Sum Of 69 And 420 is 489.0\n"
          ]
        }
      ]
    },
    {
      "cell_type": "code",
      "source": [
        "num = 8\n",
        "num_sqrt = num ** 0.5\n",
        "print('Thye Square Root Of %0.3f is %0.3f'%(num , num_sqrt))"
      ],
      "metadata": {
        "colab": {
          "base_uri": "https://localhost:8080/"
        },
        "id": "5l2K9f904DoN",
        "outputId": "33b9da84-6f60-4b3f-94de-a63bfb06b69c"
      },
      "execution_count": null,
      "outputs": [
        {
          "output_type": "stream",
          "name": "stdout",
          "text": [
            "Thye Square Root Of 8.000 is 2.828\n"
          ]
        }
      ]
    },
    {
      "cell_type": "code",
      "source": [
        "import cmath\n",
        "num = 1+2j\n",
        "num_sqrt = cmath.sqrt(num)\n",
        "print('The Square Root Of {0} is {1:0.3f}+{2:0.3f}j'.format(num,num_sqrt.real,num_sqrt.imag))"
      ],
      "metadata": {
        "colab": {
          "base_uri": "https://localhost:8080/"
        },
        "id": "TAsicasf5iyQ",
        "outputId": "55ed7bf0-20c9-446d-9227-36417d6ef353"
      },
      "execution_count": null,
      "outputs": [
        {
          "output_type": "stream",
          "name": "stdout",
          "text": [
            "The Square Root Of (1+2j) is 1.272+0.786j\n"
          ]
        }
      ]
    },
    {
      "cell_type": "code",
      "source": [
        "a = 5\n",
        "b = 6\n",
        "c = 7\n",
        "s = (a+b+c) / 2\n",
        "area = (s*(s-a)*(s-b)*(s-c)) ** 0.5\n",
        "print(\"The Area Of The Traingle Is %0.2f\" %area)"
      ],
      "metadata": {
        "colab": {
          "base_uri": "https://localhost:8080/"
        },
        "id": "Z6lBJyXR6I3C",
        "outputId": "691d2eec-38d8-4a81-c8d8-37ecd722e660"
      },
      "execution_count": null,
      "outputs": [
        {
          "output_type": "stream",
          "name": "stdout",
          "text": [
            "The Area Of The Traingle Is 14.70\n"
          ]
        }
      ]
    },
    {
      "cell_type": "code",
      "source": [
        "x = 5\n",
        "y = 10\n",
        "temp = x\n",
        "x = y\n",
        "y = temp\n",
        "print(\"The Value Of X After Swapping : {}\".format(x))\n",
        "print(\"The Value Of Y After Swapping : {}\".format(y))"
      ],
      "metadata": {
        "colab": {
          "base_uri": "https://localhost:8080/"
        },
        "id": "bNzpjrL879g6",
        "outputId": "6ba1b39d-1c2e-4022-f901-ec9b6ccfbbf6"
      },
      "execution_count": null,
      "outputs": [
        {
          "output_type": "stream",
          "name": "stdout",
          "text": [
            "The Value Of X After Swapping : 10\n",
            "The Value Of Y After Swapping : 5\n"
          ]
        }
      ]
    },
    {
      "cell_type": "code",
      "source": [
        "website = \"anuragbala.github.io\"\n",
        "print(website)"
      ],
      "metadata": {
        "colab": {
          "base_uri": "https://localhost:8080/"
        },
        "id": "r-cajpkA-idJ",
        "outputId": "9061fa91-b2b6-4380-e096-1404201700b2"
      },
      "execution_count": null,
      "outputs": [
        {
          "output_type": "stream",
          "name": "stdout",
          "text": [
            "anuragbala.github.io\n"
          ]
        }
      ]
    },
    {
      "cell_type": "code",
      "source": [
        "def max_of_two( x, y ):\n",
        "    if x > y:\n",
        "        return x\n",
        "    return y\n",
        "def max_of_three( x, y, z ):\n",
        "    return max_of_two( x, max_of_two( y, z ) )\n",
        "print(max_of_three(3, 6, -5))"
      ],
      "metadata": {
        "colab": {
          "base_uri": "https://localhost:8080/"
        },
        "id": "eudQQWJhXBRu",
        "outputId": "9a2fc762-0f7c-4c84-ee3e-f8cdee8e5b95"
      },
      "execution_count": null,
      "outputs": [
        {
          "output_type": "stream",
          "name": "stdout",
          "text": [
            "6\n"
          ]
        }
      ]
    },
    {
      "cell_type": "code",
      "source": [
        "def sum(numbers):\n",
        "    total = 0\n",
        "    for x in numbers:\n",
        "        total += x\n",
        "    return total\n",
        "print(sum((8, 2, 3, 0, 7)))"
      ],
      "metadata": {
        "colab": {
          "base_uri": "https://localhost:8080/"
        },
        "id": "dAN7yQnhXmBS",
        "outputId": "7b1d259b-c4d8-44f0-91cb-7368226fee1f"
      },
      "execution_count": null,
      "outputs": [
        {
          "output_type": "stream",
          "name": "stdout",
          "text": [
            "20\n"
          ]
        }
      ]
    },
    {
      "cell_type": "code",
      "source": [
        "def multiply(numbers):  \n",
        "    total = 1\n",
        "    for x in numbers:\n",
        "        total *= x  \n",
        "    return total  \n",
        "print(multiply((8, 2, 3, -1, 7)))"
      ],
      "metadata": {
        "colab": {
          "base_uri": "https://localhost:8080/"
        },
        "id": "9OIKMrfWXumg",
        "outputId": "2681ace7-343a-4ba8-945a-bc8be6ca170f"
      },
      "execution_count": null,
      "outputs": [
        {
          "output_type": "stream",
          "name": "stdout",
          "text": [
            "-336\n"
          ]
        }
      ]
    },
    {
      "cell_type": "code",
      "source": [
        "def string_reverse(str1):\n",
        "\n",
        "    rstr1 = ''\n",
        "    index = len(str1)\n",
        "    while index > 0:\n",
        "        rstr1 += str1[ index - 1 ]\n",
        "        index = index - 1\n",
        "    return rstr1\n",
        "print(string_reverse('1234abcd'))"
      ],
      "metadata": {
        "colab": {
          "base_uri": "https://localhost:8080/"
        },
        "id": "2fuFMx_zX8cI",
        "outputId": "edc1151f-857a-4417-ff39-dfcece192cc1"
      },
      "execution_count": null,
      "outputs": [
        {
          "output_type": "stream",
          "name": "stdout",
          "text": [
            "dcba4321\n"
          ]
        }
      ]
    },
    {
      "cell_type": "code",
      "source": [
        "def factorial(n):\n",
        "    if n == 0:\n",
        "        return 1\n",
        "    else:\n",
        "        return n * factorial(n-1)\n",
        "n=int(input(\"Input a number to compute the factiorial : \"))\n",
        "print(factorial(n))"
      ],
      "metadata": {
        "colab": {
          "base_uri": "https://localhost:8080/"
        },
        "id": "XvWH-I-HYGWw",
        "outputId": "787f1a6b-7c10-4a8d-d277-5f71bce229b7"
      },
      "execution_count": null,
      "outputs": [
        {
          "output_type": "stream",
          "name": "stdout",
          "text": [
            "Input a number to compute the factiorial : 69\n",
            "171122452428141311372468338881272839092270544893520369393648040923257279754140647424000000000000000\n"
          ]
        }
      ]
    },
    {
      "cell_type": "code",
      "source": [
        "def test_range(n):\n",
        "    if n in range(3,9):\n",
        "        print( \" %s is in the range\"%str(n))\n",
        "    else :\n",
        "        print(\"The number is outside the given range.\")\n",
        "test_range(5)"
      ],
      "metadata": {
        "colab": {
          "base_uri": "https://localhost:8080/"
        },
        "id": "xlYwOizMYc4y",
        "outputId": "186c6aa8-68ca-4c21-e386-49de584a38b0"
      },
      "execution_count": null,
      "outputs": [
        {
          "output_type": "stream",
          "name": "stdout",
          "text": [
            " 5 is in the range\n"
          ]
        }
      ]
    },
    {
      "cell_type": "code",
      "source": [
        "def string_test(s):\n",
        "    d={\"UPPER_CASE\":0, \"LOWER_CASE\":0}\n",
        "    for c in s:\n",
        "        if c.isupper():\n",
        "           d[\"UPPER_CASE\"]+=1\n",
        "        elif c.islower():\n",
        "           d[\"LOWER_CASE\"]+=1\n",
        "        else:\n",
        "           pass\n",
        "    print (\"Original String : \", s)\n",
        "    print (\"No. of Upper case characters : \", d[\"UPPER_CASE\"])\n",
        "    print (\"No. of Lower case Characters : \", d[\"LOWER_CASE\"])\n",
        "\n",
        "string_test('The quick Brown Fox')"
      ],
      "metadata": {
        "colab": {
          "base_uri": "https://localhost:8080/"
        },
        "id": "we5UxMVCYj3p",
        "outputId": "8bd14456-7fb4-481a-a8f7-92c6ef406937"
      },
      "execution_count": null,
      "outputs": [
        {
          "output_type": "stream",
          "name": "stdout",
          "text": [
            "Original String :  The quick Brown Fox\n",
            "No. of Upper case characters :  3\n",
            "No. of Lower case Characters :  13\n"
          ]
        }
      ]
    },
    {
      "cell_type": "code",
      "source": [
        "def unique_list(l):\n",
        "  x = []\n",
        "  for a in l:\n",
        "    if a not in x:\n",
        "      x.append(a)\n",
        "  return x\n",
        "\n",
        "print(unique_list([1,2,3,3,3,3,4,5])) "
      ],
      "metadata": {
        "colab": {
          "base_uri": "https://localhost:8080/"
        },
        "id": "4AFc-84RYxYo",
        "outputId": "ca816026-7d0e-491f-c012-c72d3b86aa76"
      },
      "execution_count": null,
      "outputs": [
        {
          "output_type": "stream",
          "name": "stdout",
          "text": [
            "[1, 2, 3, 4, 5]\n"
          ]
        }
      ]
    },
    {
      "cell_type": "code",
      "source": [
        "def test_prime(n):\n",
        "    if (n==1):\n",
        "        return False\n",
        "    elif (n==2):\n",
        "        return True;\n",
        "    else:\n",
        "        for x in range(2,n):\n",
        "            if(n % x==0):\n",
        "                return False\n",
        "        return True             \n",
        "print(test_prime(9))"
      ],
      "metadata": {
        "colab": {
          "base_uri": "https://localhost:8080/"
        },
        "id": "4KYFyOJuY8-f",
        "outputId": "d42a06cd-b374-470b-a882-1e3f0a7580ce"
      },
      "execution_count": null,
      "outputs": [
        {
          "output_type": "stream",
          "name": "stdout",
          "text": [
            "False\n"
          ]
        }
      ]
    },
    {
      "cell_type": "code",
      "source": [
        "def is_even_num(l):\n",
        "    enum = []\n",
        "    for n in l:\n",
        "        if n % 2 == 0:\n",
        "            enum.append(n)\n",
        "    return enum\n",
        "print(is_even_num([1, 2, 3, 4, 5, 6, 7, 8, 9]))"
      ],
      "metadata": {
        "colab": {
          "base_uri": "https://localhost:8080/"
        },
        "id": "T_DHMFOgZHNZ",
        "outputId": "fabf5c38-6aed-4d82-d9a5-67a6a9ff2c71"
      },
      "execution_count": null,
      "outputs": [
        {
          "output_type": "stream",
          "name": "stdout",
          "text": [
            "[2, 4, 6, 8]\n"
          ]
        }
      ]
    },
    {
      "cell_type": "code",
      "source": [
        "def perfect_number(n):\n",
        "    sum = 0\n",
        "    for x in range(1, n):\n",
        "        if n % x == 0:\n",
        "            sum += x\n",
        "    return sum == n\n",
        "print(perfect_number(6))"
      ],
      "metadata": {
        "colab": {
          "base_uri": "https://localhost:8080/"
        },
        "id": "P31JLNpKZQXR",
        "outputId": "cf68048b-bb5f-4d60-9c6d-ea6a9fac1827"
      },
      "execution_count": null,
      "outputs": [
        {
          "output_type": "stream",
          "name": "stdout",
          "text": [
            "True\n"
          ]
        }
      ]
    },
    {
      "cell_type": "code",
      "source": [
        "def isPalindrome(string):\n",
        "\tleft_pos = 0\n",
        "\tright_pos = len(string) - 1\n",
        "\t\n",
        "\twhile right_pos >= left_pos:\n",
        "\t\tif not string[left_pos] == string[right_pos]:\n",
        "\t\t\treturn False\n",
        "\t\tleft_pos += 1\n",
        "\t\tright_pos -= 1\n",
        "\treturn True\n",
        "print(isPalindrome('aza')) \n"
      ],
      "metadata": {
        "colab": {
          "base_uri": "https://localhost:8080/"
        },
        "id": "vFMHi3mmZfrY",
        "outputId": "d45dddb2-44d2-416f-b468-d2465400d949"
      },
      "execution_count": null,
      "outputs": [
        {
          "output_type": "stream",
          "name": "stdout",
          "text": [
            "True\n"
          ]
        }
      ]
    },
    {
      "cell_type": "code",
      "source": [
        "def pascal_triangle(n):\n",
        "   trow = [1]\n",
        "   y = [0]\n",
        "   for x in range(max(n,0)):\n",
        "      print(trow)\n",
        "      trow=[l+r for l,r in zip(trow+y, y+trow)]\n",
        "   return n>=1\n",
        "pascal_triangle(6) "
      ],
      "metadata": {
        "colab": {
          "base_uri": "https://localhost:8080/"
        },
        "id": "l7qdy1-NZllv",
        "outputId": "2b0a027d-4f23-4e79-f1cd-0bd0ee847d23"
      },
      "execution_count": null,
      "outputs": [
        {
          "output_type": "stream",
          "name": "stdout",
          "text": [
            "[1]\n",
            "[1, 1]\n",
            "[1, 2, 1]\n",
            "[1, 3, 3, 1]\n",
            "[1, 4, 6, 4, 1]\n",
            "[1, 5, 10, 10, 5, 1]\n"
          ]
        },
        {
          "output_type": "execute_result",
          "data": {
            "text/plain": [
              "True"
            ]
          },
          "metadata": {},
          "execution_count": 14
        }
      ]
    },
    {
      "cell_type": "code",
      "source": [
        "import string, sys\n",
        "def ispangram(str1, alphabet=string.ascii_lowercase):\n",
        "    alphaset = set(alphabet)\n",
        "    return alphaset <= set(str1.lower())\n",
        " \n",
        "print ( ispangram('The quick brown fox jumps over the lazy dog')) \n"
      ],
      "metadata": {
        "colab": {
          "base_uri": "https://localhost:8080/"
        },
        "id": "SKGyYgUlZ1fg",
        "outputId": "b6bef9d4-9d07-4759-f5b2-bcd31683fd1a"
      },
      "execution_count": null,
      "outputs": [
        {
          "output_type": "stream",
          "name": "stdout",
          "text": [
            "True\n"
          ]
        }
      ]
    },
    {
      "cell_type": "code",
      "source": [
        "items=[n for n in input().split('-')]\n",
        "items.sort()\n",
        "print('-'.join(items))\n"
      ],
      "metadata": {
        "colab": {
          "base_uri": "https://localhost:8080/"
        },
        "id": "nFIKeCPpZ-0I",
        "outputId": "5b7144e6-a192-4f19-f6f8-2e09a2384916"
      },
      "execution_count": null,
      "outputs": [
        {
          "output_type": "stream",
          "name": "stdout",
          "text": [
            "green-red-black-white \n",
            "black-green-red-white \n"
          ]
        }
      ]
    },
    {
      "cell_type": "code",
      "source": [
        "def printValues():\n",
        "\tl = list()\n",
        "\tfor i in range(1,21):\n",
        "\t\tl.append(i**2)\n",
        "\tprint(l)\n",
        "\t\t\n",
        "printValues()"
      ],
      "metadata": {
        "colab": {
          "base_uri": "https://localhost:8080/"
        },
        "id": "4ZgDvaJ_ajxJ",
        "outputId": "af9824b7-7a4e-48cb-e9ae-55bcf541277a"
      },
      "execution_count": null,
      "outputs": [
        {
          "output_type": "stream",
          "name": "stdout",
          "text": [
            "[1, 4, 9, 16, 25, 36, 49, 64, 81, 100, 121, 144, 169, 196, 225, 256, 289, 324, 361, 400]\n"
          ]
        }
      ]
    },
    {
      "cell_type": "code",
      "source": [
        "def make_bold(fn):\n",
        "    def wrapped():\n",
        "        return \"<b>\" + fn() + \"</b>\"\n",
        "    return wrapped\n",
        "\n",
        "def make_italic(fn):\n",
        "    def wrapped():\n",
        "        return \"<i>\" + fn() + \"</i>\"\n",
        "    return wrapped\n",
        "\n",
        "def make_underline(fn):\n",
        "    def wrapped():\n",
        "        return \"<u>\" + fn() + \"</u>\"\n",
        "    return wrapped\n",
        "@make_bold\n",
        "@make_italic\n",
        "@make_underline\n",
        "def hello():\n",
        "    return \"hello world\"\n",
        "print(hello()) ## returns \"<b><i><u>hello world</u></i></b>\"\n"
      ],
      "metadata": {
        "colab": {
          "base_uri": "https://localhost:8080/"
        },
        "id": "Ag-IasZlaxIa",
        "outputId": "e1252738-0d96-4377-c3cc-cced63ee554b"
      },
      "execution_count": null,
      "outputs": [
        {
          "output_type": "stream",
          "name": "stdout",
          "text": [
            "<b><i><u>hello world</u></i></b>\n"
          ]
        }
      ]
    },
    {
      "cell_type": "code",
      "source": [
        "mycode = 'print(\"hello world\")'\n",
        "code = \"\"\"\n",
        "def mutiply(x,y):\n",
        "    return x*y\n",
        "\n",
        "print('Multiply of 2 and 3 is: ',mutiply(2,3))\n",
        "\"\"\"\n",
        "exec(mycode)\n",
        "exec(code)\n"
      ],
      "metadata": {
        "colab": {
          "base_uri": "https://localhost:8080/"
        },
        "id": "J0SuGHBca9XI",
        "outputId": "cb3af865-1997-4654-8e0a-405d9b86240d"
      },
      "execution_count": null,
      "outputs": [
        {
          "output_type": "stream",
          "name": "stdout",
          "text": [
            "hello world\n",
            "Multiply of 2 and 3 is:  6\n"
          ]
        }
      ]
    },
    {
      "cell_type": "code",
      "source": [
        "def test(a):\n",
        "        def add(b):\n",
        "                nonlocal a\n",
        "                a += 1\n",
        "                return a+b\n",
        "        return add\n",
        "func= test(4)\n",
        "print(func(4))\n"
      ],
      "metadata": {
        "colab": {
          "base_uri": "https://localhost:8080/"
        },
        "id": "OiX6gC_GbLKS",
        "outputId": "ecc2e46a-20da-4d9a-bd5d-1f7f761d5860"
      },
      "execution_count": null,
      "outputs": [
        {
          "output_type": "stream",
          "name": "stdout",
          "text": [
            "9\n"
          ]
        }
      ]
    },
    {
      "cell_type": "code",
      "source": [
        "def abc():\n",
        "    x = 1\n",
        "    y = 2\n",
        "    str1= \"w3resource\"\n",
        "    print(\"Python Exercises\")\n",
        "\n",
        "print(abc.__code__.co_nlocals)\n"
      ],
      "metadata": {
        "colab": {
          "base_uri": "https://localhost:8080/"
        },
        "id": "pK_rT6fBbZ-6",
        "outputId": "0b62d994-565d-4e57-f8a0-17137bcada09"
      },
      "execution_count": null,
      "outputs": [
        {
          "output_type": "stream",
          "name": "stdout",
          "text": [
            "3\n"
          ]
        }
      ]
    },
    {
      "cell_type": "code",
      "source": [
        "from time import sleep\n",
        "import math\n",
        "def delay(fn, ms, *args):\n",
        "  sleep(ms / 1000)\n",
        "  return fn(*args)\n",
        "print(\"Square root after specific miliseconds:\") \n",
        "print(delay(lambda x: math.sqrt(x), 100, 16))\n",
        "print(delay(lambda x: math.sqrt(x), 1000, 100))\n",
        "print(delay(lambda x: math.sqrt(x), 2000, 25100))\n"
      ],
      "metadata": {
        "colab": {
          "base_uri": "https://localhost:8080/"
        },
        "id": "vUTmkn7rbmGp",
        "outputId": "b0ae3747-7205-4242-a2ac-498f265afb67"
      },
      "execution_count": null,
      "outputs": [
        {
          "output_type": "stream",
          "name": "stdout",
          "text": [
            "Square root after specific miliseconds:\n",
            "4.0\n",
            "10.0\n",
            "158.42979517754858\n"
          ]
        }
      ]
    }
  ]
}