{
  "nbformat": 4,
  "nbformat_minor": 0,
  "metadata": {
    "colab": {
      "name": "Untitled4.ipynb",
      "provenance": [],
      "include_colab_link": true
    },
    "kernelspec": {
      "name": "python3",
      "display_name": "Python 3"
    },
    "language_info": {
      "name": "python"
    }
  },
  "cells": [
    {
      "cell_type": "markdown",
      "metadata": {
        "id": "view-in-github",
        "colab_type": "text"
      },
      "source": [
        "<a href=\"https://colab.research.google.com/github/kishorechristy/python/blob/main/Apr_1.ipynb\" target=\"_parent\"><img src=\"https://colab.research.google.com/assets/colab-badge.svg\" alt=\"Open In Colab\"/></a>"
      ]
    },
    {
      "cell_type": "code",
      "execution_count": null,
      "metadata": {
        "colab": {
          "base_uri": "https://localhost:8080/"
        },
        "id": "jJPrvzq22dPN",
        "outputId": "0de41481-f224-4f8d-c0c7-74b0ca191917"
      },
      "outputs": [
        {
          "output_type": "stream",
          "name": "stdout",
          "text": [
            "7\n",
            "ANURAG\n"
          ]
        }
      ],
      "source": [
        "#declaring a varible\n",
        "number=7\n",
        "name='ANURAG'\n",
        "print(number)\n",
        "print(name)"
      ]
    },
    {
      "cell_type": "code",
      "source": [
        "#assigning a value to multiple variables\n",
        "x=y=z='python is a easy language'\n",
        "print(x)\n",
        "print(y)\n",
        "print(z)"
      ],
      "metadata": {
        "colab": {
          "base_uri": "https://localhost:8080/"
        },
        "id": "b9uIQFa33PaV",
        "outputId": "8e27b9be-17e6-4097-cf84-80bcd3081d92"
      },
      "execution_count": null,
      "outputs": [
        {
          "output_type": "stream",
          "name": "stdout",
          "text": [
            "python is a easy language\n",
            "python is a easy language\n",
            "python is a easy language\n"
          ]
        }
      ]
    },
    {
      "cell_type": "code",
      "source": [
        "#assigning multiple values to multiple variables\n",
        "x,y,z='python',3,'value'\n",
        "print(x)\n",
        "print(y)\n",
        "print(z)"
      ],
      "metadata": {
        "colab": {
          "base_uri": "https://localhost:8080/"
        },
        "id": "dKft672J3liq",
        "outputId": "2353e4ab-7ea9-4d1d-e23b-8d86d9412c19"
      },
      "execution_count": null,
      "outputs": [
        {
          "output_type": "stream",
          "name": "stdout",
          "text": [
            "python\n",
            "3\n",
            "value\n"
          ]
        }
      ]
    },
    {
      "cell_type": "code",
      "source": [
        "#datatype - number(float)\n",
        "x=3.55\n",
        "print(x, 'is type of',type(x))"
      ],
      "metadata": {
        "colab": {
          "base_uri": "https://localhost:8080/"
        },
        "id": "8Yw5K6kL4X_E",
        "outputId": "304434df-e200-4151-c839-97047e0e0928"
      },
      "execution_count": null,
      "outputs": [
        {
          "output_type": "stream",
          "name": "stdout",
          "text": [
            "3.55 is type of <class 'float'>\n"
          ]
        }
      ]
    },
    {
      "cell_type": "code",
      "source": [
        "#datatype - number(integer)\n",
        "y=90\n",
        "print(y, 'is type of',type(y))"
      ],
      "metadata": {
        "colab": {
          "base_uri": "https://localhost:8080/"
        },
        "id": "rFNqMAy45HXD",
        "outputId": "950c9408-ad85-4e50-d09a-7768405ef1f0"
      },
      "execution_count": null,
      "outputs": [
        {
          "output_type": "stream",
          "name": "stdout",
          "text": [
            "90 is type of <class 'int'>\n"
          ]
        }
      ]
    },
    {
      "cell_type": "code",
      "source": [
        "#datatype - number(complex)\n",
        "z=3+5j\n",
        "print(z, 'is type of',type(z))"
      ],
      "metadata": {
        "colab": {
          "base_uri": "https://localhost:8080/"
        },
        "id": "M2AZckt76Ftf",
        "outputId": "97ff3313-aa4a-4442-9071-1bddf18590ca"
      },
      "execution_count": null,
      "outputs": [
        {
          "output_type": "stream",
          "name": "stdout",
          "text": [
            "(3+5j) is type of <class 'complex'>\n"
          ]
        }
      ]
    },
    {
      "cell_type": "code",
      "source": [
        "#datatype- string(concatenating a string)\n",
        "string1='this is lab hour and '\n",
        "string2='it is soon going to complete'\n",
        "print(string1+string2)"
      ],
      "metadata": {
        "colab": {
          "base_uri": "https://localhost:8080/"
        },
        "id": "sVWNhf0I6fNb",
        "outputId": "59bdb279-a4ab-4076-ff32-dfdbe2cfa079"
      },
      "execution_count": null,
      "outputs": [
        {
          "output_type": "stream",
          "name": "stdout",
          "text": [
            "this is lab hour and it is soon going to complete\n"
          ]
        }
      ]
    },
    {
      "cell_type": "code",
      "source": [
        "#datatype - string(repetiting a string)\n",
        "string='python lab '\n",
        "print(string*5)\n"
      ],
      "metadata": {
        "colab": {
          "base_uri": "https://localhost:8080/"
        },
        "id": "K-lq7CHs7q49",
        "outputId": "8834e9e2-04d3-4f06-bafa-3d21e4f4a741"
      },
      "execution_count": null,
      "outputs": [
        {
          "output_type": "stream",
          "name": "stdout",
          "text": [
            "python lab python lab python lab python lab python lab \n"
          ]
        }
      ]
    }
  ]
}